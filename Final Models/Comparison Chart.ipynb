{
 "cells": [
  {
   "cell_type": "code",
   "execution_count": 1,
   "metadata": {
    "collapsed": true
   },
   "outputs": [],
   "source": [
    "import pandas as pd\n",
    "import os\n",
    "from pandas.tools.plotting import scatter_matrix\n",
    "import matplotlib.pyplot as plt\n",
    "from sklearn import model_selection\n",
    "from sklearn.metrics import classification_report\n",
    "from sklearn.metrics import confusion_matrix\n",
    "from sklearn.metrics import accuracy_score\n",
    "from sklearn.discriminant_analysis import LinearDiscriminantAnalysis\n",
    "from sklearn import metrics as metrics\n"
   ]
  },
  {
   "cell_type": "code",
   "execution_count": 2,
   "metadata": {
    "collapsed": false
   },
   "outputs": [
    {
     "data": {
      "text/plain": [
       "'/Users/wrangamujadidi/Desktop/Capstone/capstone_opioid/Data/Sample_Size_1661.csv'"
      ]
     },
     "execution_count": 2,
     "metadata": {},
     "output_type": "execute_result"
    }
   ],
   "source": [
    "\n",
    "PATH = os.path.abspath(os.path.join(os.path.dirname(\".\"), \"Data\"))\n",
    "FINAL_DATA = os.path.join(PATH, \"Sample_Size_1661.csv\")\n",
    "\n",
    "FINAL_DATA"
   ]
  },
  {
   "cell_type": "code",
   "execution_count": 3,
   "metadata": {
    "collapsed": false
   },
   "outputs": [],
   "source": [
    "#insert the data into a DataFrame\n",
    "\n",
    "data = pd.read_csv(FINAL_DATA)"
   ]
  },
  {
   "cell_type": "code",
   "execution_count": 4,
   "metadata": {
    "collapsed": false
   },
   "outputs": [
    {
     "data": {
      "text/plain": [
       "(3322, 27)"
      ]
     },
     "execution_count": 4,
     "metadata": {},
     "output_type": "execute_result"
    }
   ],
   "source": [
    "data.shape"
   ]
  },
  {
   "cell_type": "code",
   "execution_count": 5,
   "metadata": {
    "collapsed": false
   },
   "outputs": [
    {
     "data": {
      "text/html": [
       "<div>\n",
       "<table border=\"1\" class=\"dataframe\">\n",
       "  <thead>\n",
       "    <tr style=\"text-align: right;\">\n",
       "      <th></th>\n",
       "      <th>HexagonNumber</th>\n",
       "      <th>HexandMonth</th>\n",
       "      <th>Month</th>\n",
       "      <th>Under20</th>\n",
       "      <th>20to29</th>\n",
       "      <th>30to39</th>\n",
       "      <th>40to49</th>\n",
       "      <th>50to59</th>\n",
       "      <th>60to69</th>\n",
       "      <th>70andabove</th>\n",
       "      <th>...</th>\n",
       "      <th>MiscCals</th>\n",
       "      <th>OverdoseCalls</th>\n",
       "      <th>PropertyCalls</th>\n",
       "      <th>QOLCalls</th>\n",
       "      <th>TrafficCalls</th>\n",
       "      <th>ViolentCalls</th>\n",
       "      <th>AverageTemperature</th>\n",
       "      <th>AverageHumidity</th>\n",
       "      <th>AveragePrecipitation</th>\n",
       "      <th>Unemployment</th>\n",
       "    </tr>\n",
       "  </thead>\n",
       "  <tbody>\n",
       "    <tr>\n",
       "      <th>0</th>\n",
       "      <td>32</td>\n",
       "      <td>32-1</td>\n",
       "      <td>1</td>\n",
       "      <td>0</td>\n",
       "      <td>0</td>\n",
       "      <td>1</td>\n",
       "      <td>1</td>\n",
       "      <td>0</td>\n",
       "      <td>0</td>\n",
       "      <td>0</td>\n",
       "      <td>...</td>\n",
       "      <td>21</td>\n",
       "      <td>2</td>\n",
       "      <td>23</td>\n",
       "      <td>71</td>\n",
       "      <td>47</td>\n",
       "      <td>18</td>\n",
       "      <td>37.4075</td>\n",
       "      <td>0.541429</td>\n",
       "      <td>0.00025</td>\n",
       "      <td>0.071667</td>\n",
       "    </tr>\n",
       "    <tr>\n",
       "      <th>1</th>\n",
       "      <td>33</td>\n",
       "      <td>33-1</td>\n",
       "      <td>1</td>\n",
       "      <td>0</td>\n",
       "      <td>0</td>\n",
       "      <td>0</td>\n",
       "      <td>2</td>\n",
       "      <td>0</td>\n",
       "      <td>0</td>\n",
       "      <td>0</td>\n",
       "      <td>...</td>\n",
       "      <td>30</td>\n",
       "      <td>2</td>\n",
       "      <td>23</td>\n",
       "      <td>83</td>\n",
       "      <td>35</td>\n",
       "      <td>29</td>\n",
       "      <td>37.4075</td>\n",
       "      <td>0.541429</td>\n",
       "      <td>0.00025</td>\n",
       "      <td>0.255000</td>\n",
       "    </tr>\n",
       "    <tr>\n",
       "      <th>2</th>\n",
       "      <td>35</td>\n",
       "      <td>35-1</td>\n",
       "      <td>1</td>\n",
       "      <td>0</td>\n",
       "      <td>0</td>\n",
       "      <td>0</td>\n",
       "      <td>0</td>\n",
       "      <td>0</td>\n",
       "      <td>0</td>\n",
       "      <td>0</td>\n",
       "      <td>...</td>\n",
       "      <td>0</td>\n",
       "      <td>0</td>\n",
       "      <td>0</td>\n",
       "      <td>0</td>\n",
       "      <td>0</td>\n",
       "      <td>0</td>\n",
       "      <td>37.4075</td>\n",
       "      <td>0.541429</td>\n",
       "      <td>0.00025</td>\n",
       "      <td>0.139500</td>\n",
       "    </tr>\n",
       "    <tr>\n",
       "      <th>3</th>\n",
       "      <td>36</td>\n",
       "      <td>36-1</td>\n",
       "      <td>1</td>\n",
       "      <td>0</td>\n",
       "      <td>0</td>\n",
       "      <td>0</td>\n",
       "      <td>0</td>\n",
       "      <td>0</td>\n",
       "      <td>0</td>\n",
       "      <td>0</td>\n",
       "      <td>...</td>\n",
       "      <td>3</td>\n",
       "      <td>0</td>\n",
       "      <td>3</td>\n",
       "      <td>10</td>\n",
       "      <td>4</td>\n",
       "      <td>4</td>\n",
       "      <td>37.4075</td>\n",
       "      <td>0.541429</td>\n",
       "      <td>0.00025</td>\n",
       "      <td>0.192000</td>\n",
       "    </tr>\n",
       "    <tr>\n",
       "      <th>4</th>\n",
       "      <td>43</td>\n",
       "      <td>43-1</td>\n",
       "      <td>1</td>\n",
       "      <td>0</td>\n",
       "      <td>0</td>\n",
       "      <td>0</td>\n",
       "      <td>0</td>\n",
       "      <td>0</td>\n",
       "      <td>0</td>\n",
       "      <td>1</td>\n",
       "      <td>...</td>\n",
       "      <td>25</td>\n",
       "      <td>0</td>\n",
       "      <td>40</td>\n",
       "      <td>76</td>\n",
       "      <td>44</td>\n",
       "      <td>3</td>\n",
       "      <td>37.4075</td>\n",
       "      <td>0.541429</td>\n",
       "      <td>0.00025</td>\n",
       "      <td>0.078750</td>\n",
       "    </tr>\n",
       "  </tbody>\n",
       "</table>\n",
       "<p>5 rows × 27 columns</p>\n",
       "</div>"
      ],
      "text/plain": [
       "   HexagonNumber HexandMonth  Month  Under20  20to29  30to39  40to49  50to59  \\\n",
       "0             32        32-1      1        0       0       1       1       0   \n",
       "1             33        33-1      1        0       0       0       2       0   \n",
       "2             35        35-1      1        0       0       0       0       0   \n",
       "3             36        36-1      1        0       0       0       0       0   \n",
       "4             43        43-1      1        0       0       0       0       0   \n",
       "\n",
       "   60to69  70andabove      ...       MiscCals  OverdoseCalls  PropertyCalls  \\\n",
       "0       0           0      ...             21              2             23   \n",
       "1       0           0      ...             30              2             23   \n",
       "2       0           0      ...              0              0              0   \n",
       "3       0           0      ...              3              0              3   \n",
       "4       0           1      ...             25              0             40   \n",
       "\n",
       "   QOLCalls  TrafficCalls  ViolentCalls  AverageTemperature  AverageHumidity  \\\n",
       "0        71            47            18             37.4075         0.541429   \n",
       "1        83            35            29             37.4075         0.541429   \n",
       "2         0             0             0             37.4075         0.541429   \n",
       "3        10             4             4             37.4075         0.541429   \n",
       "4        76            44             3             37.4075         0.541429   \n",
       "\n",
       "   AveragePrecipitation  Unemployment  \n",
       "0               0.00025      0.071667  \n",
       "1               0.00025      0.255000  \n",
       "2               0.00025      0.139500  \n",
       "3               0.00025      0.192000  \n",
       "4               0.00025      0.078750  \n",
       "\n",
       "[5 rows x 27 columns]"
      ]
     },
     "execution_count": 5,
     "metadata": {},
     "output_type": "execute_result"
    }
   ],
   "source": [
    "data.head()"
   ]
  },
  {
   "cell_type": "code",
   "execution_count": 6,
   "metadata": {
    "collapsed": false
   },
   "outputs": [
    {
     "data": {
      "text/html": [
       "<div>\n",
       "<table border=\"1\" class=\"dataframe\">\n",
       "  <thead>\n",
       "    <tr style=\"text-align: right;\">\n",
       "      <th></th>\n",
       "      <th>HexagonNumber</th>\n",
       "      <th>Month</th>\n",
       "      <th>Under20</th>\n",
       "      <th>20to29</th>\n",
       "      <th>30to39</th>\n",
       "      <th>40to49</th>\n",
       "      <th>50to59</th>\n",
       "      <th>60to69</th>\n",
       "      <th>70andabove</th>\n",
       "      <th>TotalNarcan</th>\n",
       "      <th>...</th>\n",
       "      <th>MiscCals</th>\n",
       "      <th>OverdoseCalls</th>\n",
       "      <th>PropertyCalls</th>\n",
       "      <th>QOLCalls</th>\n",
       "      <th>TrafficCalls</th>\n",
       "      <th>ViolentCalls</th>\n",
       "      <th>AverageTemperature</th>\n",
       "      <th>AverageHumidity</th>\n",
       "      <th>AveragePrecipitation</th>\n",
       "      <th>Unemployment</th>\n",
       "    </tr>\n",
       "  </thead>\n",
       "  <tbody>\n",
       "    <tr>\n",
       "      <th>count</th>\n",
       "      <td>3322.000000</td>\n",
       "      <td>3322.000000</td>\n",
       "      <td>3322.000000</td>\n",
       "      <td>3322.000000</td>\n",
       "      <td>3322.000000</td>\n",
       "      <td>3322.000000</td>\n",
       "      <td>3322.000000</td>\n",
       "      <td>3322.000000</td>\n",
       "      <td>3322.000000</td>\n",
       "      <td>3322.000000</td>\n",
       "      <td>...</td>\n",
       "      <td>3322.000000</td>\n",
       "      <td>3322.000000</td>\n",
       "      <td>3322.000000</td>\n",
       "      <td>3322.000000</td>\n",
       "      <td>3322.000000</td>\n",
       "      <td>3322.000000</td>\n",
       "      <td>3322.000000</td>\n",
       "      <td>3322.000000</td>\n",
       "      <td>3322.000000</td>\n",
       "      <td>3322.000000</td>\n",
       "    </tr>\n",
       "    <tr>\n",
       "      <th>mean</th>\n",
       "      <td>368.743829</td>\n",
       "      <td>6.570138</td>\n",
       "      <td>0.045154</td>\n",
       "      <td>0.063817</td>\n",
       "      <td>0.145695</td>\n",
       "      <td>0.137869</td>\n",
       "      <td>0.299217</td>\n",
       "      <td>0.183022</td>\n",
       "      <td>0.037327</td>\n",
       "      <td>0.912101</td>\n",
       "      <td>...</td>\n",
       "      <td>17.806442</td>\n",
       "      <td>0.814570</td>\n",
       "      <td>11.678206</td>\n",
       "      <td>41.313666</td>\n",
       "      <td>22.822697</td>\n",
       "      <td>7.968092</td>\n",
       "      <td>64.448655</td>\n",
       "      <td>0.567246</td>\n",
       "      <td>0.002678</td>\n",
       "      <td>0.106817</td>\n",
       "    </tr>\n",
       "    <tr>\n",
       "      <th>std</th>\n",
       "      <td>196.305659</td>\n",
       "      <td>3.407581</td>\n",
       "      <td>0.224398</td>\n",
       "      <td>0.288529</td>\n",
       "      <td>0.410449</td>\n",
       "      <td>0.413873</td>\n",
       "      <td>0.640070</td>\n",
       "      <td>0.514389</td>\n",
       "      <td>0.200400</td>\n",
       "      <td>1.327486</td>\n",
       "      <td>...</td>\n",
       "      <td>35.570409</td>\n",
       "      <td>1.859712</td>\n",
       "      <td>14.849998</td>\n",
       "      <td>56.737941</td>\n",
       "      <td>30.282254</td>\n",
       "      <td>13.015783</td>\n",
       "      <td>14.909897</td>\n",
       "      <td>0.057652</td>\n",
       "      <td>0.002781</td>\n",
       "      <td>0.087368</td>\n",
       "    </tr>\n",
       "    <tr>\n",
       "      <th>min</th>\n",
       "      <td>18.000000</td>\n",
       "      <td>1.000000</td>\n",
       "      <td>0.000000</td>\n",
       "      <td>0.000000</td>\n",
       "      <td>0.000000</td>\n",
       "      <td>0.000000</td>\n",
       "      <td>0.000000</td>\n",
       "      <td>0.000000</td>\n",
       "      <td>0.000000</td>\n",
       "      <td>0.000000</td>\n",
       "      <td>...</td>\n",
       "      <td>0.000000</td>\n",
       "      <td>0.000000</td>\n",
       "      <td>0.000000</td>\n",
       "      <td>0.000000</td>\n",
       "      <td>0.000000</td>\n",
       "      <td>0.000000</td>\n",
       "      <td>37.407500</td>\n",
       "      <td>0.458571</td>\n",
       "      <td>0.000000</td>\n",
       "      <td>0.000000</td>\n",
       "    </tr>\n",
       "    <tr>\n",
       "      <th>25%</th>\n",
       "      <td>212.000000</td>\n",
       "      <td>4.000000</td>\n",
       "      <td>0.000000</td>\n",
       "      <td>0.000000</td>\n",
       "      <td>0.000000</td>\n",
       "      <td>0.000000</td>\n",
       "      <td>0.000000</td>\n",
       "      <td>0.000000</td>\n",
       "      <td>0.000000</td>\n",
       "      <td>0.000000</td>\n",
       "      <td>...</td>\n",
       "      <td>0.000000</td>\n",
       "      <td>0.000000</td>\n",
       "      <td>0.000000</td>\n",
       "      <td>1.000000</td>\n",
       "      <td>1.000000</td>\n",
       "      <td>0.000000</td>\n",
       "      <td>54.687857</td>\n",
       "      <td>0.531071</td>\n",
       "      <td>0.000250</td>\n",
       "      <td>0.035500</td>\n",
       "    </tr>\n",
       "    <tr>\n",
       "      <th>50%</th>\n",
       "      <td>350.500000</td>\n",
       "      <td>7.000000</td>\n",
       "      <td>0.000000</td>\n",
       "      <td>0.000000</td>\n",
       "      <td>0.000000</td>\n",
       "      <td>0.000000</td>\n",
       "      <td>0.000000</td>\n",
       "      <td>0.000000</td>\n",
       "      <td>0.000000</td>\n",
       "      <td>0.500000</td>\n",
       "      <td>...</td>\n",
       "      <td>6.000000</td>\n",
       "      <td>0.000000</td>\n",
       "      <td>7.000000</td>\n",
       "      <td>18.000000</td>\n",
       "      <td>11.000000</td>\n",
       "      <td>2.000000</td>\n",
       "      <td>63.496429</td>\n",
       "      <td>0.570714</td>\n",
       "      <td>0.001136</td>\n",
       "      <td>0.085750</td>\n",
       "    </tr>\n",
       "    <tr>\n",
       "      <th>75%</th>\n",
       "      <td>517.000000</td>\n",
       "      <td>9.000000</td>\n",
       "      <td>0.000000</td>\n",
       "      <td>0.000000</td>\n",
       "      <td>0.000000</td>\n",
       "      <td>0.000000</td>\n",
       "      <td>0.000000</td>\n",
       "      <td>0.000000</td>\n",
       "      <td>0.000000</td>\n",
       "      <td>1.000000</td>\n",
       "      <td>...</td>\n",
       "      <td>23.000000</td>\n",
       "      <td>1.000000</td>\n",
       "      <td>17.000000</td>\n",
       "      <td>60.000000</td>\n",
       "      <td>34.000000</td>\n",
       "      <td>11.000000</td>\n",
       "      <td>78.354286</td>\n",
       "      <td>0.586429</td>\n",
       "      <td>0.005382</td>\n",
       "      <td>0.165000</td>\n",
       "    </tr>\n",
       "    <tr>\n",
       "      <th>max</th>\n",
       "      <td>780.000000</td>\n",
       "      <td>12.000000</td>\n",
       "      <td>3.000000</td>\n",
       "      <td>4.000000</td>\n",
       "      <td>6.000000</td>\n",
       "      <td>4.000000</td>\n",
       "      <td>6.000000</td>\n",
       "      <td>6.000000</td>\n",
       "      <td>3.000000</td>\n",
       "      <td>11.000000</td>\n",
       "      <td>...</td>\n",
       "      <td>448.000000</td>\n",
       "      <td>24.000000</td>\n",
       "      <td>122.000000</td>\n",
       "      <td>467.000000</td>\n",
       "      <td>247.000000</td>\n",
       "      <td>115.000000</td>\n",
       "      <td>84.563929</td>\n",
       "      <td>0.676786</td>\n",
       "      <td>0.007686</td>\n",
       "      <td>0.542000</td>\n",
       "    </tr>\n",
       "  </tbody>\n",
       "</table>\n",
       "<p>8 rows × 26 columns</p>\n",
       "</div>"
      ],
      "text/plain": [
       "       HexagonNumber        Month      Under20       20to29       30to39  \\\n",
       "count    3322.000000  3322.000000  3322.000000  3322.000000  3322.000000   \n",
       "mean      368.743829     6.570138     0.045154     0.063817     0.145695   \n",
       "std       196.305659     3.407581     0.224398     0.288529     0.410449   \n",
       "min        18.000000     1.000000     0.000000     0.000000     0.000000   \n",
       "25%       212.000000     4.000000     0.000000     0.000000     0.000000   \n",
       "50%       350.500000     7.000000     0.000000     0.000000     0.000000   \n",
       "75%       517.000000     9.000000     0.000000     0.000000     0.000000   \n",
       "max       780.000000    12.000000     3.000000     4.000000     6.000000   \n",
       "\n",
       "            40to49       50to59       60to69   70andabove  TotalNarcan  \\\n",
       "count  3322.000000  3322.000000  3322.000000  3322.000000  3322.000000   \n",
       "mean      0.137869     0.299217     0.183022     0.037327     0.912101   \n",
       "std       0.413873     0.640070     0.514389     0.200400     1.327486   \n",
       "min       0.000000     0.000000     0.000000     0.000000     0.000000   \n",
       "25%       0.000000     0.000000     0.000000     0.000000     0.000000   \n",
       "50%       0.000000     0.000000     0.000000     0.000000     0.500000   \n",
       "75%       0.000000     0.000000     0.000000     0.000000     1.000000   \n",
       "max       4.000000     6.000000     6.000000     3.000000    11.000000   \n",
       "\n",
       "           ...          MiscCals  OverdoseCalls  PropertyCalls     QOLCalls  \\\n",
       "count      ...       3322.000000    3322.000000    3322.000000  3322.000000   \n",
       "mean       ...         17.806442       0.814570      11.678206    41.313666   \n",
       "std        ...         35.570409       1.859712      14.849998    56.737941   \n",
       "min        ...          0.000000       0.000000       0.000000     0.000000   \n",
       "25%        ...          0.000000       0.000000       0.000000     1.000000   \n",
       "50%        ...          6.000000       0.000000       7.000000    18.000000   \n",
       "75%        ...         23.000000       1.000000      17.000000    60.000000   \n",
       "max        ...        448.000000      24.000000     122.000000   467.000000   \n",
       "\n",
       "       TrafficCalls  ViolentCalls  AverageTemperature  AverageHumidity  \\\n",
       "count   3322.000000   3322.000000         3322.000000      3322.000000   \n",
       "mean      22.822697      7.968092           64.448655         0.567246   \n",
       "std       30.282254     13.015783           14.909897         0.057652   \n",
       "min        0.000000      0.000000           37.407500         0.458571   \n",
       "25%        1.000000      0.000000           54.687857         0.531071   \n",
       "50%       11.000000      2.000000           63.496429         0.570714   \n",
       "75%       34.000000     11.000000           78.354286         0.586429   \n",
       "max      247.000000    115.000000           84.563929         0.676786   \n",
       "\n",
       "       AveragePrecipitation  Unemployment  \n",
       "count           3322.000000   3322.000000  \n",
       "mean               0.002678      0.106817  \n",
       "std                0.002781      0.087368  \n",
       "min                0.000000      0.000000  \n",
       "25%                0.000250      0.035500  \n",
       "50%                0.001136      0.085750  \n",
       "75%                0.005382      0.165000  \n",
       "max                0.007686      0.542000  \n",
       "\n",
       "[8 rows x 26 columns]"
      ]
     },
     "execution_count": 6,
     "metadata": {},
     "output_type": "execute_result"
    }
   ],
   "source": [
    "data.describe()"
   ]
  },
  {
   "cell_type": "code",
   "execution_count": 7,
   "metadata": {
    "collapsed": false
   },
   "outputs": [
    {
     "data": {
      "text/plain": [
       "NarcanAdministered\n",
       "0    1661\n",
       "1    1661\n",
       "dtype: int64"
      ]
     },
     "execution_count": 7,
     "metadata": {},
     "output_type": "execute_result"
    }
   ],
   "source": [
    "data.groupby('NarcanAdministered').size()"
   ]
  },
  {
   "cell_type": "code",
   "execution_count": 8,
   "metadata": {
    "collapsed": false
   },
   "outputs": [],
   "source": [
    "#Create the test and train splits (80/20)\n",
    "#load in the columns as features.  Deleted the HexagonNumber, ages, gender, weather and unemployment \n",
    "#because they were causing the model to be predictive and give us perfect scores \n",
    "\n",
    "features = data [[\n",
    "   'MPDCalls', 'FEMSCalls', 'MedicalCalls', 'MiscCals',\n",
    "       'OverdoseCalls', 'PropertyCalls', 'QOLCalls', 'TrafficCalls',\n",
    "       'ViolentCalls'\n",
    "]]\n",
    "\n",
    "X = features\n",
    "\n",
    "y = data['NarcanAdministered']\n",
    "\n",
    "from sklearn.model_selection import train_test_split as tts \n",
    "X_train, X_test, y_train, y_test = tts(X, y, test_size=0.2)"
   ]
  },
  {
   "cell_type": "code",
   "execution_count": 9,
   "metadata": {
    "collapsed": false
   },
   "outputs": [
    {
     "data": {
      "text/plain": [
       "(3322, 9)"
      ]
     },
     "execution_count": 9,
     "metadata": {},
     "output_type": "execute_result"
    }
   ],
   "source": [
    "X.shape"
   ]
  },
  {
   "cell_type": "code",
   "execution_count": 10,
   "metadata": {
    "collapsed": false
   },
   "outputs": [
    {
     "data": {
      "text/plain": [
       "(3322,)"
      ]
     },
     "execution_count": 10,
     "metadata": {},
     "output_type": "execute_result"
    }
   ],
   "source": [
    "y.shape"
   ]
  },
  {
   "cell_type": "code",
   "execution_count": 11,
   "metadata": {
    "collapsed": true
   },
   "outputs": [],
   "source": [
    "f1_scores = []\n",
    "names = []"
   ]
  },
  {
   "cell_type": "code",
   "execution_count": 59,
   "metadata": {
    "collapsed": false
   },
   "outputs": [
    {
     "name": "stdout",
     "output_type": "stream",
     "text": [
      "             precision    recall  f1-score   support\n",
      "\n",
      "          0       0.53      0.44      0.48       337\n",
      "          1       0.51      0.60      0.55       328\n",
      "\n",
      "avg / total       0.52      0.52      0.52       665\n",
      "\n"
     ]
    },
    {
     "data": {
      "text/plain": [
       "[0.55462184873949583]"
      ]
     },
     "execution_count": 59,
     "metadata": {},
     "output_type": "execute_result"
    }
   ],
   "source": [
    "from sklearn.tree import DecisionTreeClassifier\n",
    "model = DecisionTreeClassifier()\n",
    "model_name = 'DTC'\n",
    "model.fit(X_train, y_train)\n",
    "\n",
    "# Predict and report \n",
    "y_pred = model.predict(X_test)\n",
    "\n",
    "print(classification_report(y_test, y_pred))\n",
    "\n",
    "f1_scores.append(metrics.f1_score(y_test, y_pred))\n",
    "names.append(model_name)\n",
    "\n",
    "f1_scores"
   ]
  },
  {
   "cell_type": "code",
   "execution_count": 12,
   "metadata": {
    "collapsed": false
   },
   "outputs": [
    {
     "name": "stdout",
     "output_type": "stream",
     "text": [
      "             precision    recall  f1-score   support\n",
      "\n",
      "          0       0.48      0.50      0.49       335\n",
      "          1       0.47      0.46      0.47       330\n",
      "\n",
      "avg / total       0.48      0.48      0.48       665\n",
      "\n"
     ]
    }
   ],
   "source": [
    "from sklearn.ensemble import RandomForestClassifier\n",
    "model = RandomForestClassifier()\n",
    "model_name = 'RFC'\n",
    "model.fit(X_train, y_train)\n",
    "\n",
    "# Predict and report \n",
    "y_pred = model.predict(X_test)\n",
    "print(classification_report(y_test, y_pred))\n",
    "\n",
    "f1_scores.append(metrics.f1_score(y_test, y_pred))\n",
    "names.append(model_name)\n",
    "\n"
   ]
  },
  {
   "cell_type": "code",
   "execution_count": 13,
   "metadata": {
    "collapsed": false
   },
   "outputs": [
    {
     "name": "stdout",
     "output_type": "stream",
     "text": [
      "             precision    recall  f1-score   support\n",
      "\n",
      "          0       0.48      0.40      0.43       335\n",
      "          1       0.48      0.56      0.52       330\n",
      "\n",
      "avg / total       0.48      0.48      0.47       665\n",
      "\n"
     ]
    }
   ],
   "source": [
    "from sklearn.neighbors import KNeighborsClassifier\n",
    "\n",
    "model_name = 'KNN'\n",
    "\n",
    "# Create our first knn model form \n",
    "knn5 = KNeighborsClassifier(n_neighbors=5)\n",
    "knn5.fit(X_train, y_train)\n",
    "y_pred = knn5.predict(X_test)\n",
    "print(classification_report(y_test, y_pred))\n",
    "\n",
    "f1_scores.append(metrics.f1_score(y_test, y_pred))\n",
    "names.append(model_name)"
   ]
  },
  {
   "cell_type": "code",
   "execution_count": 14,
   "metadata": {
    "collapsed": false
   },
   "outputs": [
    {
     "name": "stdout",
     "output_type": "stream",
     "text": [
      "             precision    recall  f1-score   support\n",
      "\n",
      "          0       0.45      0.16      0.24       335\n",
      "          1       0.48      0.80      0.60       330\n",
      "\n",
      "avg / total       0.47      0.48      0.42       665\n",
      "\n"
     ]
    }
   ],
   "source": [
    "from sklearn.svm import SVC\n",
    "\n",
    "model_name = 'SVC'\n",
    "model = SVC() \n",
    "model.fit(X_train, y_train)\n",
    "\n",
    "y_pred = model.predict(X_test)\n",
    "print(classification_report(y_test, y_pred))\n",
    "\n",
    "f1_scores.append(metrics.f1_score(y_test, y_pred))\n",
    "names.append(model_name)"
   ]
  },
  {
   "cell_type": "code",
   "execution_count": 15,
   "metadata": {
    "collapsed": false
   },
   "outputs": [
    {
     "name": "stdout",
     "output_type": "stream",
     "text": [
      "             precision    recall  f1-score   support\n",
      "\n",
      "          0       0.50      0.96      0.66       335\n",
      "          1       0.38      0.03      0.05       330\n",
      "\n",
      "avg / total       0.44      0.49      0.36       665\n",
      "\n"
     ]
    }
   ],
   "source": [
    "from sklearn.svm import LinearSVC\n",
    "\n",
    "model_name = 'LSVC'\n",
    "\n",
    "model = LinearSVC() \n",
    "model.fit(X_train, y_train)\n",
    "\n",
    "y_pred = model.predict(X_test)\n",
    "print(classification_report(y_test, y_pred))\n",
    "\n",
    "f1_scores.append(metrics.f1_score(y_test, y_pred))\n",
    "names.append(model_name)"
   ]
  },
  {
   "cell_type": "code",
   "execution_count": 16,
   "metadata": {
    "collapsed": false
   },
   "outputs": [
    {
     "name": "stdout",
     "output_type": "stream",
     "text": [
      "             precision    recall  f1-score   support\n",
      "\n",
      "          0       0.51      0.83      0.63       335\n",
      "          1       0.54      0.21      0.30       330\n",
      "\n",
      "avg / total       0.53      0.52      0.47       665\n",
      "\n"
     ]
    }
   ],
   "source": [
    "from sklearn.naive_bayes import GaussianNB\n",
    "\n",
    "model_name = 'GNB'\n",
    "\n",
    "model = GaussianNB() \n",
    "model.fit(X_train, y_train)\n",
    "\n",
    "y_pred = model.predict(X_test)\n",
    "print(classification_report(y_test, y_pred))\n",
    "\n",
    "f1_scores.append(metrics.f1_score(y_test, y_pred))\n",
    "names.append(model_name)"
   ]
  },
  {
   "cell_type": "code",
   "execution_count": 17,
   "metadata": {
    "collapsed": false
   },
   "outputs": [
    {
     "data": {
      "text/plain": [
       "[0.4660493827160494,\n",
       " 0.51603905160390506,\n",
       " 0.60342857142857143,\n",
       " 0.05084745762711864,\n",
       " 0.30196936542669583]"
      ]
     },
     "execution_count": 17,
     "metadata": {},
     "output_type": "execute_result"
    }
   ],
   "source": [
    "f1_scores"
   ]
  },
  {
   "cell_type": "code",
   "execution_count": 66,
   "metadata": {
    "collapsed": false
   },
   "outputs": [
    {
     "data": {
      "text/plain": [
       "['DTC', 'RFC', 'KNN', 'SVC', 'LSVC', 'GNB']"
      ]
     },
     "execution_count": 66,
     "metadata": {},
     "output_type": "execute_result"
    }
   ],
   "source": [
    "names"
   ]
  },
  {
   "cell_type": "code",
   "execution_count": 67,
   "metadata": {
    "collapsed": false
   },
   "outputs": [
    {
     "data": {
      "image/png": "[encoded data removed]",
      "text/plain": [
       "<matplotlib.figure.Figure at 0x110398160>"
      ]
     },
     "metadata": {},
     "output_type": "display_data"
    }
   ],
   "source": [
    "# Compare Algorithms\n",
    "\n",
    "fig = plt.figure()\n",
    "fig.suptitle('Algorithm Comparison')\n",
    "ax = fig.add_subplot(111)\n",
    "plt.boxplot(f1_scores)\n",
    "ax.set_xticklabels(names)\n",
    "plt.show()"
   ]
  },
  {
   "cell_type": "code",
   "execution_count": 68,
   "metadata": {
    "collapsed": false
   },
   "outputs": [],
   "source": [
    "import seaborn as sns\n",
    "\n"
   ]
  },
  {
   "cell_type": "code",
   "execution_count": 69,
   "metadata": {
    "collapsed": false
   },
   "outputs": [
    {
     "data": {
      "image/png": "[encoded data removed]",
      "text/plain": [
       "<matplotlib.figure.Figure at 0x1107ff358>"
      ]
     },
     "metadata": {},
     "output_type": "display_data"
    }
   ],
   "source": [
    "ax = sns.boxplot(x=names, y=f1_scores)\n",
    "plt.show()"
   ]
  },
  {
   "cell_type": "markdown",
   "metadata": {},
   "source": [
    "# Make Predictions"
   ]
  },
  {
   "cell_type": "code",
   "execution_count": 70,
   "metadata": {
    "collapsed": false
   },
   "outputs": [
    {
     "name": "stdout",
     "output_type": "stream",
     "text": [
      "0.518796992481\n",
      "[[150 187]\n",
      " [133 195]]\n",
      "             precision    recall  f1-score   support\n",
      "\n",
      "          0       0.53      0.45      0.48       337\n",
      "          1       0.51      0.59      0.55       328\n",
      "\n",
      "avg / total       0.52      0.52      0.52       665\n",
      "\n"
     ]
    }
   ],
   "source": [
    "# Make predictions on validation dataset\n",
    "model = DecisionTreeClassifier()\n",
    "model.fit(X_train, y_train)\n",
    "predictions = model.predict(X_test)\n",
    "print(accuracy_score(y_test, predictions))\n",
    "print(confusion_matrix(y_test, predictions))\n",
    "print(classification_report(y_test, predictions))"
   ]
  },
  {
   "cell_type": "code",
   "execution_count": null,
   "metadata": {
    "collapsed": true
   },
   "outputs": [],
   "source": []
  }
 ],
 "metadata": {
  "kernelspec": {
   "display_name": "Python 3",
   "language": "python",
   "name": "python3"
  },
  "language_info": {
   "codemirror_mode": {
    "name": "ipython",
    "version": 3
   },
   "file_extension": ".py",
   "mimetype": "text/x-python",
   "name": "python",
   "nbconvert_exporter": "python",
   "pygments_lexer": "ipython3",
   "version": "3.6.0"
  }
 },
 "nbformat": 4,
 "nbformat_minor": 2
}

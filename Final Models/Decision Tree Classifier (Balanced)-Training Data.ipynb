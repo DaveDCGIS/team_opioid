{
 "cells": [
  {
   "cell_type": "markdown",
   "metadata": {},
   "source": [
    "### Imports"
   ]
  },
  {
   "cell_type": "code",
   "execution_count": 27,
   "metadata": {
    "collapsed": true
   },
   "outputs": [],
   "source": [
    "import os \n",
    "import pickle\n",
    "\n",
    "import pandas as pd\n",
    "import numpy as np\n",
    "import matplotlib.pyplot as plt\n",
    "\n",
    "from sklearn.metrics import classification_report\n"
   ]
  },
  {
   "cell_type": "markdown",
   "metadata": {},
   "source": [
    "# Read in Data"
   ]
  },
  {
   "cell_type": "code",
   "execution_count": 28,
   "metadata": {
    "collapsed": false
   },
   "outputs": [
    {
     "data": {
      "text/plain": [
       "'/Users/wrangamujadidi/Desktop/Capstone/capstone_opioid/Data/Sample_Size_1661.csv'"
      ]
     },
     "execution_count": 28,
     "metadata": {},
     "output_type": "execute_result"
    }
   ],
   "source": [
    "\n",
    "PATH = os.path.abspath(os.path.join(os.path.dirname(\".\"), \"Data\"))\n",
    "FINAL_DATA = os.path.join(PATH, \"Sample_Size_1661.csv\")\n",
    "\n",
    "FINAL_DATA"
   ]
  },
  {
   "cell_type": "code",
   "execution_count": 29,
   "metadata": {
    "collapsed": false
   },
   "outputs": [],
   "source": [
    "#insert the data into a DataFrame\n",
    "\n",
    "data = pd.read_csv(FINAL_DATA)"
   ]
  },
  {
   "cell_type": "code",
   "execution_count": 30,
   "metadata": {
    "collapsed": false
   },
   "outputs": [
    {
     "data": {
      "text/html": [
       "<div>\n",
       "<table border=\"1\" class=\"dataframe\">\n",
       "  <thead>\n",
       "    <tr style=\"text-align: right;\">\n",
       "      <th></th>\n",
       "      <th>HexagonNumber</th>\n",
       "      <th>HexandMonth</th>\n",
       "      <th>Month</th>\n",
       "      <th>Under20</th>\n",
       "      <th>20to29</th>\n",
       "      <th>30to39</th>\n",
       "      <th>40to49</th>\n",
       "      <th>50to59</th>\n",
       "      <th>60to69</th>\n",
       "      <th>70andabove</th>\n",
       "      <th>...</th>\n",
       "      <th>MiscCals</th>\n",
       "      <th>OverdoseCalls</th>\n",
       "      <th>PropertyCalls</th>\n",
       "      <th>QOLCalls</th>\n",
       "      <th>TrafficCalls</th>\n",
       "      <th>ViolentCalls</th>\n",
       "      <th>AverageTemperature</th>\n",
       "      <th>AverageHumidity</th>\n",
       "      <th>AveragePrecipitation</th>\n",
       "      <th>Unemployment</th>\n",
       "    </tr>\n",
       "  </thead>\n",
       "  <tbody>\n",
       "    <tr>\n",
       "      <th>0</th>\n",
       "      <td>32</td>\n",
       "      <td>32-1</td>\n",
       "      <td>1</td>\n",
       "      <td>0</td>\n",
       "      <td>0</td>\n",
       "      <td>1</td>\n",
       "      <td>1</td>\n",
       "      <td>0</td>\n",
       "      <td>0</td>\n",
       "      <td>0</td>\n",
       "      <td>...</td>\n",
       "      <td>21</td>\n",
       "      <td>2</td>\n",
       "      <td>23</td>\n",
       "      <td>71</td>\n",
       "      <td>47</td>\n",
       "      <td>18</td>\n",
       "      <td>37.4075</td>\n",
       "      <td>0.541429</td>\n",
       "      <td>0.00025</td>\n",
       "      <td>0.071667</td>\n",
       "    </tr>\n",
       "    <tr>\n",
       "      <th>1</th>\n",
       "      <td>33</td>\n",
       "      <td>33-1</td>\n",
       "      <td>1</td>\n",
       "      <td>0</td>\n",
       "      <td>0</td>\n",
       "      <td>0</td>\n",
       "      <td>2</td>\n",
       "      <td>0</td>\n",
       "      <td>0</td>\n",
       "      <td>0</td>\n",
       "      <td>...</td>\n",
       "      <td>30</td>\n",
       "      <td>2</td>\n",
       "      <td>23</td>\n",
       "      <td>83</td>\n",
       "      <td>35</td>\n",
       "      <td>29</td>\n",
       "      <td>37.4075</td>\n",
       "      <td>0.541429</td>\n",
       "      <td>0.00025</td>\n",
       "      <td>0.255000</td>\n",
       "    </tr>\n",
       "    <tr>\n",
       "      <th>2</th>\n",
       "      <td>35</td>\n",
       "      <td>35-1</td>\n",
       "      <td>1</td>\n",
       "      <td>0</td>\n",
       "      <td>0</td>\n",
       "      <td>0</td>\n",
       "      <td>0</td>\n",
       "      <td>0</td>\n",
       "      <td>0</td>\n",
       "      <td>0</td>\n",
       "      <td>...</td>\n",
       "      <td>0</td>\n",
       "      <td>0</td>\n",
       "      <td>0</td>\n",
       "      <td>0</td>\n",
       "      <td>0</td>\n",
       "      <td>0</td>\n",
       "      <td>37.4075</td>\n",
       "      <td>0.541429</td>\n",
       "      <td>0.00025</td>\n",
       "      <td>0.139500</td>\n",
       "    </tr>\n",
       "    <tr>\n",
       "      <th>3</th>\n",
       "      <td>36</td>\n",
       "      <td>36-1</td>\n",
       "      <td>1</td>\n",
       "      <td>0</td>\n",
       "      <td>0</td>\n",
       "      <td>0</td>\n",
       "      <td>0</td>\n",
       "      <td>0</td>\n",
       "      <td>0</td>\n",
       "      <td>0</td>\n",
       "      <td>...</td>\n",
       "      <td>3</td>\n",
       "      <td>0</td>\n",
       "      <td>3</td>\n",
       "      <td>10</td>\n",
       "      <td>4</td>\n",
       "      <td>4</td>\n",
       "      <td>37.4075</td>\n",
       "      <td>0.541429</td>\n",
       "      <td>0.00025</td>\n",
       "      <td>0.192000</td>\n",
       "    </tr>\n",
       "    <tr>\n",
       "      <th>4</th>\n",
       "      <td>43</td>\n",
       "      <td>43-1</td>\n",
       "      <td>1</td>\n",
       "      <td>0</td>\n",
       "      <td>0</td>\n",
       "      <td>0</td>\n",
       "      <td>0</td>\n",
       "      <td>0</td>\n",
       "      <td>0</td>\n",
       "      <td>1</td>\n",
       "      <td>...</td>\n",
       "      <td>25</td>\n",
       "      <td>0</td>\n",
       "      <td>40</td>\n",
       "      <td>76</td>\n",
       "      <td>44</td>\n",
       "      <td>3</td>\n",
       "      <td>37.4075</td>\n",
       "      <td>0.541429</td>\n",
       "      <td>0.00025</td>\n",
       "      <td>0.078750</td>\n",
       "    </tr>\n",
       "  </tbody>\n",
       "</table>\n",
       "<p>5 rows × 27 columns</p>\n",
       "</div>"
      ],
      "text/plain": [
       "   HexagonNumber HexandMonth  Month  Under20  20to29  30to39  40to49  50to59  \\\n",
       "0             32        32-1      1        0       0       1       1       0   \n",
       "1             33        33-1      1        0       0       0       2       0   \n",
       "2             35        35-1      1        0       0       0       0       0   \n",
       "3             36        36-1      1        0       0       0       0       0   \n",
       "4             43        43-1      1        0       0       0       0       0   \n",
       "\n",
       "   60to69  70andabove      ...       MiscCals  OverdoseCalls  PropertyCalls  \\\n",
       "0       0           0      ...             21              2             23   \n",
       "1       0           0      ...             30              2             23   \n",
       "2       0           0      ...              0              0              0   \n",
       "3       0           0      ...              3              0              3   \n",
       "4       0           1      ...             25              0             40   \n",
       "\n",
       "   QOLCalls  TrafficCalls  ViolentCalls  AverageTemperature  AverageHumidity  \\\n",
       "0        71            47            18             37.4075         0.541429   \n",
       "1        83            35            29             37.4075         0.541429   \n",
       "2         0             0             0             37.4075         0.541429   \n",
       "3        10             4             4             37.4075         0.541429   \n",
       "4        76            44             3             37.4075         0.541429   \n",
       "\n",
       "   AveragePrecipitation  Unemployment  \n",
       "0               0.00025      0.071667  \n",
       "1               0.00025      0.255000  \n",
       "2               0.00025      0.139500  \n",
       "3               0.00025      0.192000  \n",
       "4               0.00025      0.078750  \n",
       "\n",
       "[5 rows x 27 columns]"
      ]
     },
     "execution_count": 30,
     "metadata": {},
     "output_type": "execute_result"
    }
   ],
   "source": [
    "#make sure the data loaded properly \n",
    "\n",
    "data.head()"
   ]
  },
  {
   "cell_type": "code",
   "execution_count": 31,
   "metadata": {
    "collapsed": true
   },
   "outputs": [],
   "source": [
    "#Drop the columns for HexandMonth and TotalNarcan.  HEXandMonth is not needed and TotalNarcan may cause bias because\n",
    "#the Narcan Administered already accounts for the TotalNarcan for the month. \n",
    "\n",
    "data = data.drop(['HexandMonth'], axis=1)\n",
    "data = data.drop(['TotalNarcan'], axis=1)"
   ]
  },
  {
   "cell_type": "code",
   "execution_count": 32,
   "metadata": {
    "collapsed": false
   },
   "outputs": [
    {
     "data": {
      "text/plain": [
       "Index(['HexagonNumber', 'Month', 'Under20', '20to29', '30to39', '40to49',\n",
       "       '50to59', '60to69', '70andabove', 'NarcanAdministered', 'Male',\n",
       "       'Female', 'MPDCalls', 'FEMSCalls', 'MedicalCalls', 'MiscCals',\n",
       "       'OverdoseCalls', 'PropertyCalls', 'QOLCalls', 'TrafficCalls',\n",
       "       'ViolentCalls', 'AverageTemperature', 'AverageHumidity',\n",
       "       'AveragePrecipitation', 'Unemployment'],\n",
       "      dtype='object')"
      ]
     },
     "execution_count": 32,
     "metadata": {},
     "output_type": "execute_result"
    }
   ],
   "source": [
    "data.columns"
   ]
  },
  {
   "cell_type": "markdown",
   "metadata": {},
   "source": [
    "# Seperate the data into the features and the target"
   ]
  },
  {
   "cell_type": "code",
   "execution_count": 33,
   "metadata": {
    "collapsed": false
   },
   "outputs": [
    {
     "name": "stdout",
     "output_type": "stream",
     "text": [
      "(3322, 9)\n",
      "(3322,)\n"
     ]
    }
   ],
   "source": [
    "#load in the columns as features.  Deleted the HexagonNumber, ages, gender, weather and unemployment \n",
    "#because they were causing the model to be predictive and give us perfect scores \n",
    "\n",
    "features = data [[\n",
    "'MPDCalls', 'FEMSCalls', 'MedicalCalls', 'MiscCals',\n",
    "       'OverdoseCalls', 'PropertyCalls', 'QOLCalls', 'TrafficCalls',\n",
    "       'ViolentCalls'\n",
    "]]\n",
    "\n",
    "X = features\n",
    "\n",
    "y = data['NarcanAdministered']\n",
    "\n",
    "print(X.shape)\n",
    "print(y.shape)"
   ]
  },
  {
   "cell_type": "code",
   "execution_count": 34,
   "metadata": {
    "collapsed": false
   },
   "outputs": [
    {
     "data": {
      "text/plain": [
       "['MPDCalls',\n",
       " 'FEMSCalls',\n",
       " 'MedicalCalls',\n",
       " 'MiscCals',\n",
       " 'OverdoseCalls',\n",
       " 'PropertyCalls',\n",
       " 'QOLCalls',\n",
       " 'TrafficCalls',\n",
       " 'ViolentCalls']"
      ]
     },
     "execution_count": 34,
     "metadata": {},
     "output_type": "execute_result"
    }
   ],
   "source": [
    "list(features)"
   ]
  },
  {
   "cell_type": "markdown",
   "metadata": {},
   "source": [
    "### Creating the test/train split"
   ]
  },
  {
   "cell_type": "code",
   "execution_count": 35,
   "metadata": {
    "collapsed": true
   },
   "outputs": [],
   "source": [
    "#Create the test and train splits (80/20)\n",
    "\n",
    "from sklearn.model_selection import train_test_split as tts \n",
    "X_train, X_test, y_train, y_test = tts(X, y, test_size=0.2)"
   ]
  },
  {
   "cell_type": "code",
   "execution_count": 36,
   "metadata": {
    "collapsed": false
   },
   "outputs": [
    {
     "data": {
      "text/plain": [
       "((2657, 9), (665, 9), (2657,), (665,))"
      ]
     },
     "execution_count": 36,
     "metadata": {},
     "output_type": "execute_result"
    }
   ],
   "source": [
    "X_train.shape, X_test.shape, y_train.shape, y_test.shape"
   ]
  },
  {
   "cell_type": "markdown",
   "metadata": {},
   "source": [
    "# Decision Tree Classifier"
   ]
  },
  {
   "cell_type": "code",
   "execution_count": 37,
   "metadata": {
    "collapsed": false
   },
   "outputs": [
    {
     "name": "stdout",
     "output_type": "stream",
     "text": [
      "             precision    recall  f1-score   support\n",
      "\n",
      "          0       0.53      0.39      0.45       345\n",
      "          1       0.49      0.62      0.54       320\n",
      "\n",
      "avg / total       0.51      0.50      0.49       665\n",
      "\n"
     ]
    }
   ],
   "source": [
    "# Import the model form \n",
    "from sklearn.tree import DecisionTreeClassifier \n",
    "\n",
    "# Fit the Model\n",
    "model = DecisionTreeClassifier() \n",
    "model.fit(X_train, y_train)\n",
    "\n",
    "# Predict and report \n",
    "y_pred = model.predict(X_test)\n",
    "print(classification_report(y_test, y_pred))\n"
   ]
  },
  {
   "cell_type": "code",
   "execution_count": 38,
   "metadata": {
    "collapsed": false
   },
   "outputs": [
    {
     "data": {
      "image/png": "[encoded data removed]",
      "text/plain": [
       "<matplotlib.figure.Figure at 0x11c350550>"
      ]
     },
     "metadata": {},
     "output_type": "display_data"
    }
   ],
   "source": [
    "from yellowbrick.classifier import ClassificationReport\n",
    "\n",
    "visualizer = ClassificationReport(model)\n",
    "\n",
    "visualizer.fit(X_train, y_train)  # Fit the training data to the visualizer\n",
    "visualizer.score(X_test, y_test)  # Evaluate the model on the test data\n",
    "g = visualizer.poof()             # Draw/show/poof the data"
   ]
  },
  {
   "cell_type": "code",
   "execution_count": 39,
   "metadata": {
    "collapsed": false
   },
   "outputs": [
    {
     "name": "stdout",
     "output_type": "stream",
     "text": [
      "             precision    recall  f1-score   support\n",
      "\n",
      "          0       0.48      0.11      0.18       345\n",
      "          1       0.48      0.87      0.61       320\n",
      "\n",
      "avg / total       0.48      0.48      0.39       665\n",
      "\n"
     ]
    }
   ],
   "source": [
    "# Import the model form \n",
    "from sklearn.tree import DecisionTreeClassifier \n",
    "\n",
    "# Fit the Model\n",
    "model = DecisionTreeClassifier(max_depth=10) \n",
    "model.fit(X_train, y_train)\n",
    "\n",
    "# Predict and report \n",
    "y_pred = model.predict(X_test)\n",
    "print(classification_report(y_test, y_pred))\n",
    "\n"
   ]
  },
  {
   "cell_type": "code",
   "execution_count": 40,
   "metadata": {
    "collapsed": false
   },
   "outputs": [
    {
     "data": {
      "image/png": "[encoded data removed]",
      "text/plain": [
       "<matplotlib.figure.Figure at 0x11cc242e8>"
      ]
     },
     "metadata": {},
     "output_type": "display_data"
    }
   ],
   "source": [
    "from yellowbrick.classifier import ClassificationReport\n",
    "\n",
    "visualizer = ClassificationReport(model)\n",
    "\n",
    "\n",
    "visualizer.fit(X_train, y_train)  # Fit the training data to the visualizer\n",
    "visualizer.score(X_test, y_test)  # Evaluate the model on the test data\n",
    "g = visualizer.poof()           # Draw/show/poof the data"
   ]
  },
  {
   "cell_type": "markdown",
   "metadata": {},
   "source": [
    "# Regularization"
   ]
  },
  {
   "cell_type": "markdown",
   "metadata": {},
   "source": [
    "## Lasso"
   ]
  },
  {
   "cell_type": "code",
   "execution_count": 41,
   "metadata": {
    "collapsed": false
   },
   "outputs": [
    {
     "name": "stdout",
     "output_type": "stream",
     "text": [
      "[('MPDCalls', 0.0), ('FEMSCalls', 0.0), ('MedicalCalls', 0.0), ('MiscCals', -7.589328925671224e-05), ('OverdoseCalls', 0.0), ('PropertyCalls', 0.0), ('QOLCalls', 0.00011009670190725226), ('TrafficCalls', 0.0), ('ViolentCalls', 0.0)]\n"
     ]
    }
   ],
   "source": [
    "\n",
    "\"\"\"Perform Regularization Techniques for feature selection\"\"\"\n",
    "\n",
    "from sklearn.linear_model import Ridge, Lasso, ElasticNet\n",
    "from sklearn.feature_selection import SelectFromModel\n",
    "\n",
    "model = Lasso(alpha=0.2)\n",
    "model.fit(X, y)\n",
    "print(list(zip(X, model.coef_.tolist())))"
   ]
  },
  {
   "cell_type": "code",
   "execution_count": 42,
   "metadata": {
    "collapsed": false
   },
   "outputs": [
    {
     "name": "stdout",
     "output_type": "stream",
     "text": [
      "['MiscCals', 'QOLCalls']\n"
     ]
    }
   ],
   "source": [
    "model = Lasso(alpha=0.2)\n",
    "sfm = SelectFromModel(model)\n",
    "sfm.fit(X, y)\n",
    "print(list(X[sfm.get_support(indices=True)]))"
   ]
  },
  {
   "cell_type": "markdown",
   "metadata": {},
   "source": [
    "## Ridge"
   ]
  },
  {
   "cell_type": "code",
   "execution_count": 43,
   "metadata": {
    "collapsed": false
   },
   "outputs": [
    {
     "name": "stdout",
     "output_type": "stream",
     "text": [
      "[('MPDCalls', 0.0018351149477042047), ('FEMSCalls', 0.0016206818768017353), ('MedicalCalls', -0.002372552102557157), ('MiscCals', -0.0022771022605654868), ('OverdoseCalls', 0.01171957627751495), ('PropertyCalls', -0.0019060867640167973), ('QOLCalls', -0.0017080383521808232), ('TrafficCalls', 0.0003485047521026978), ('ViolentCalls', 0.000627836248260684)]\n"
     ]
    }
   ],
   "source": [
    "model = Ridge()\n",
    "model.fit(X, y)\n",
    "print(list(zip(X, model.coef_.tolist())))"
   ]
  },
  {
   "cell_type": "code",
   "execution_count": 44,
   "metadata": {
    "collapsed": false
   },
   "outputs": [
    {
     "name": "stdout",
     "output_type": "stream",
     "text": [
      "['OverdoseCalls']\n"
     ]
    }
   ],
   "source": [
    "model = Ridge()\n",
    "sfm = SelectFromModel(model)\n",
    "sfm.fit(X, y)\n",
    "print(list(X[sfm.get_support(indices=True)]))"
   ]
  },
  {
   "cell_type": "markdown",
   "metadata": {},
   "source": [
    "## Elastic Net"
   ]
  },
  {
   "cell_type": "code",
   "execution_count": 45,
   "metadata": {
    "collapsed": false
   },
   "outputs": [
    {
     "name": "stdout",
     "output_type": "stream",
     "text": [
      "[('MPDCalls', -0.0), ('FEMSCalls', 0.0), ('MedicalCalls', -0.0), ('MiscCals', -0.0002689545418829855), ('OverdoseCalls', 0.0), ('PropertyCalls', -0.0), ('QOLCalls', 0.00021997197469904295), ('TrafficCalls', 0.0), ('ViolentCalls', 0.0)]\n"
     ]
    }
   ],
   "source": [
    "model = ElasticNet(l1_ratio=0.10)\n",
    "model.fit(X, y)\n",
    "print(list(zip(X, model.coef_.tolist())))"
   ]
  },
  {
   "cell_type": "code",
   "execution_count": 46,
   "metadata": {
    "collapsed": false
   },
   "outputs": [
    {
     "name": "stdout",
     "output_type": "stream",
     "text": [
      "['MPDCalls', 'FEMSCalls', 'MedicalCalls', 'MiscCals', 'OverdoseCalls', 'PropertyCalls', 'QOLCalls', 'TrafficCalls', 'ViolentCalls']\n"
     ]
    }
   ],
   "source": [
    "model = ElasticNet()\n",
    "sfm = SelectFromModel(model)\n",
    "sfm.fit(X, y)\n",
    "print(list(X[sfm.get_support(indices=True)]))"
   ]
  },
  {
   "cell_type": "markdown",
   "metadata": {},
   "source": [
    "# Scores using the regularized data "
   ]
  },
  {
   "cell_type": "code",
   "execution_count": 47,
   "metadata": {
    "collapsed": false
   },
   "outputs": [
    {
     "name": "stdout",
     "output_type": "stream",
     "text": [
      "(3322, 2)\n",
      "(3322,)\n"
     ]
    }
   ],
   "source": [
    "features = data [[\n",
    "   'MiscCals', 'QOLCalls'\n",
    "]]\n",
    "\n",
    "X = features\n",
    "\n",
    "y = data['NarcanAdministered']\n",
    "\n",
    "print(X.shape)\n",
    "print(y.shape)"
   ]
  },
  {
   "cell_type": "code",
   "execution_count": 48,
   "metadata": {
    "collapsed": true
   },
   "outputs": [],
   "source": [
    "X_train, X_test, y_train, y_test = tts(X, y, test_size=0.2)"
   ]
  },
  {
   "cell_type": "code",
   "execution_count": 49,
   "metadata": {
    "collapsed": false
   },
   "outputs": [
    {
     "name": "stdout",
     "output_type": "stream",
     "text": [
      "             precision    recall  f1-score   support\n",
      "\n",
      "          0       0.50      0.67      0.57       326\n",
      "          1       0.53      0.37      0.43       339\n",
      "\n",
      "avg / total       0.52      0.51      0.50       665\n",
      "\n"
     ]
    }
   ],
   "source": [
    "# Fit the Model\n",
    "model = DecisionTreeClassifier() \n",
    "\n",
    "model.fit(X_train, y_train)\n",
    "\n",
    "# Predict and report \n",
    "y_pred = model.predict(X_test)\n",
    "print(classification_report(y_test, y_pred))\n",
    "\n"
   ]
  },
  {
   "cell_type": "code",
   "execution_count": 50,
   "metadata": {
    "collapsed": false
   },
   "outputs": [
    {
     "data": {
      "image/png": "[encoded data removed]",
      "text/plain": [
       "<matplotlib.figure.Figure at 0x11c827160>"
      ]
     },
     "metadata": {},
     "output_type": "display_data"
    }
   ],
   "source": [
    "visualizer = ClassificationReport(model)\n",
    "\n",
    "\n",
    "visualizer.fit(X_train, y_train)  # Fit the training data to the visualizer\n",
    "visualizer.score(X_test, y_test)  # Evaluate the model on the test data\n",
    "g = visualizer.poof()           # Draw/show/poof the data"
   ]
  },
  {
   "cell_type": "code",
   "execution_count": null,
   "metadata": {
    "collapsed": true
   },
   "outputs": [],
   "source": []
  }
 ],
 "metadata": {
  "kernelspec": {
   "display_name": "Python 3",
   "language": "python",
   "name": "python3"
  },
  "language_info": {
   "codemirror_mode": {
    "name": "ipython",
    "version": 3
   },
   "file_extension": ".py",
   "mimetype": "text/x-python",
   "name": "python",
   "nbconvert_exporter": "python",
   "pygments_lexer": "ipython3",
   "version": "3.6.0"
  }
 },
 "nbformat": 4,
 "nbformat_minor": 2
}
